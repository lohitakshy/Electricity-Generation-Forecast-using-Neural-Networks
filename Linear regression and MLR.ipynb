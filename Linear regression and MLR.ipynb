{
 "cells": [
  {
   "cell_type": "code",
   "execution_count": 1,
   "metadata": {},
   "outputs": [],
   "source": [
    "import pandas as pd\n",
    "from sklearn import preprocessing\n",
    "from sklearn.model_selection import train_test_split\n",
    "import numpy as np\n",
    "from sklearn.metrics import mean_squared_error\n",
    "from sklearn.metrics import mean_squared_log_error\n",
    "from sklearn.metrics import r2_score\n",
    "import matplotlib.pyplot as plt\n",
    "from sklearn.pipeline import make_pipeline\n",
    "#poly_model = make_pipeline(PolynomialFeatures(7),LinearRegression())"
   ]
  },
  {
   "cell_type": "code",
   "execution_count": 2,
   "metadata": {},
   "outputs": [
    {
     "name": "stderr",
     "output_type": "stream",
     "text": [
      "c:\\users\\shwet\\anaconda3\\lib\\site-packages\\IPython\\core\\interactiveshell.py:2728: DtypeWarning: Columns (3,9,11,14,15,16) have mixed types. Specify dtype option on import or set low_memory=False.\n",
      "  interactivity=interactivity, compiler=compiler, result=result)\n"
     ]
    },
    {
     "data": {
      "text/html": [
       "<div>\n",
       "<style scoped>\n",
       "    .dataframe tbody tr th:only-of-type {\n",
       "        vertical-align: middle;\n",
       "    }\n",
       "\n",
       "    .dataframe tbody tr th {\n",
       "        vertical-align: top;\n",
       "    }\n",
       "\n",
       "    .dataframe thead th {\n",
       "        text-align: right;\n",
       "    }\n",
       "</style>\n",
       "<table border=\"1\" class=\"dataframe\">\n",
       "  <thead>\n",
       "    <tr style=\"text-align: right;\">\n",
       "      <th></th>\n",
       "      <th>State</th>\n",
       "      <th>FacilityName</th>\n",
       "      <th>FacilityID</th>\n",
       "      <th>UnitID</th>\n",
       "      <th>GDate</th>\n",
       "      <th>GYear</th>\n",
       "      <th>ElectricityGeneration</th>\n",
       "      <th>UnitTechnologyType</th>\n",
       "      <th>FuelType</th>\n",
       "      <th>NameplateCapacityMW</th>\n",
       "      <th>GOwner</th>\n",
       "      <th>GeneratorID</th>\n",
       "      <th>UtilityID</th>\n",
       "      <th>UtilityName</th>\n",
       "      <th>NameplatePowerFactor</th>\n",
       "      <th>SummerCapacityMW</th>\n",
       "      <th>WinterCapacityMW</th>\n",
       "    </tr>\n",
       "  </thead>\n",
       "  <tbody>\n",
       "    <tr>\n",
       "      <th>0</th>\n",
       "      <td>AL</td>\n",
       "      <td>AMEA Sylacauga Plant</td>\n",
       "      <td>56018</td>\n",
       "      <td>1</td>\n",
       "      <td>2015-01-01 00:00:00</td>\n",
       "      <td>2015</td>\n",
       "      <td>0</td>\n",
       "      <td>Natural Gas Combustion Turbine</td>\n",
       "      <td>Pipeline Natural Gas\\r</td>\n",
       "      <td>49.3</td>\n",
       "      <td>S</td>\n",
       "      <td>1</td>\n",
       "      <td>Alabama Municipal Elec Authority</td>\n",
       "      <td>40614</td>\n",
       "      <td>0.8</td>\n",
       "      <td>47.5</td>\n",
       "      <td>48.3</td>\n",
       "    </tr>\n",
       "    <tr>\n",
       "      <th>1</th>\n",
       "      <td>AL</td>\n",
       "      <td>AMEA Sylacauga Plant</td>\n",
       "      <td>56018</td>\n",
       "      <td>1</td>\n",
       "      <td>2015-01-01 00:00:00</td>\n",
       "      <td>2015</td>\n",
       "      <td>0</td>\n",
       "      <td>Natural Gas Combustion Turbine</td>\n",
       "      <td>Pipeline Natural Gas\\r</td>\n",
       "      <td>49.3</td>\n",
       "      <td>S</td>\n",
       "      <td>2</td>\n",
       "      <td>Alabama Municipal Elec Authority</td>\n",
       "      <td>40614</td>\n",
       "      <td>0.8</td>\n",
       "      <td>47.5</td>\n",
       "      <td>48.3</td>\n",
       "    </tr>\n",
       "    <tr>\n",
       "      <th>2</th>\n",
       "      <td>AL</td>\n",
       "      <td>AMEA Sylacauga Plant</td>\n",
       "      <td>56018</td>\n",
       "      <td>1</td>\n",
       "      <td>2015-01-02 00:00:00</td>\n",
       "      <td>2015</td>\n",
       "      <td>0</td>\n",
       "      <td>Natural Gas Combustion Turbine</td>\n",
       "      <td>Pipeline Natural Gas\\r</td>\n",
       "      <td>49.3</td>\n",
       "      <td>S</td>\n",
       "      <td>1</td>\n",
       "      <td>Alabama Municipal Elec Authority</td>\n",
       "      <td>40614</td>\n",
       "      <td>0.8</td>\n",
       "      <td>47.5</td>\n",
       "      <td>48.3</td>\n",
       "    </tr>\n",
       "    <tr>\n",
       "      <th>3</th>\n",
       "      <td>AL</td>\n",
       "      <td>AMEA Sylacauga Plant</td>\n",
       "      <td>56018</td>\n",
       "      <td>1</td>\n",
       "      <td>2015-01-02 00:00:00</td>\n",
       "      <td>2015</td>\n",
       "      <td>0</td>\n",
       "      <td>Natural Gas Combustion Turbine</td>\n",
       "      <td>Pipeline Natural Gas\\r</td>\n",
       "      <td>49.3</td>\n",
       "      <td>S</td>\n",
       "      <td>2</td>\n",
       "      <td>Alabama Municipal Elec Authority</td>\n",
       "      <td>40614</td>\n",
       "      <td>0.8</td>\n",
       "      <td>47.5</td>\n",
       "      <td>48.3</td>\n",
       "    </tr>\n",
       "    <tr>\n",
       "      <th>4</th>\n",
       "      <td>AL</td>\n",
       "      <td>AMEA Sylacauga Plant</td>\n",
       "      <td>56018</td>\n",
       "      <td>1</td>\n",
       "      <td>2015-01-03 00:00:00</td>\n",
       "      <td>2015</td>\n",
       "      <td>0</td>\n",
       "      <td>Natural Gas Combustion Turbine</td>\n",
       "      <td>Pipeline Natural Gas\\r</td>\n",
       "      <td>49.3</td>\n",
       "      <td>S</td>\n",
       "      <td>1</td>\n",
       "      <td>Alabama Municipal Elec Authority</td>\n",
       "      <td>40614</td>\n",
       "      <td>0.8</td>\n",
       "      <td>47.5</td>\n",
       "      <td>48.3</td>\n",
       "    </tr>\n",
       "  </tbody>\n",
       "</table>\n",
       "</div>"
      ],
      "text/plain": [
       "  State          FacilityName  FacilityID UnitID                GDate  GYear  \\\n",
       "0    AL  AMEA Sylacauga Plant       56018      1  2015-01-01 00:00:00   2015   \n",
       "1    AL  AMEA Sylacauga Plant       56018      1  2015-01-01 00:00:00   2015   \n",
       "2    AL  AMEA Sylacauga Plant       56018      1  2015-01-02 00:00:00   2015   \n",
       "3    AL  AMEA Sylacauga Plant       56018      1  2015-01-02 00:00:00   2015   \n",
       "4    AL  AMEA Sylacauga Plant       56018      1  2015-01-03 00:00:00   2015   \n",
       "\n",
       "   ElectricityGeneration              UnitTechnologyType  \\\n",
       "0                      0  Natural Gas Combustion Turbine   \n",
       "1                      0  Natural Gas Combustion Turbine   \n",
       "2                      0  Natural Gas Combustion Turbine   \n",
       "3                      0  Natural Gas Combustion Turbine   \n",
       "4                      0  Natural Gas Combustion Turbine   \n",
       "\n",
       "                 FuelType NameplateCapacityMW GOwner GeneratorID  \\\n",
       "0  Pipeline Natural Gas\\r                49.3      S           1   \n",
       "1  Pipeline Natural Gas\\r                49.3      S           2   \n",
       "2  Pipeline Natural Gas\\r                49.3      S           1   \n",
       "3  Pipeline Natural Gas\\r                49.3      S           2   \n",
       "4  Pipeline Natural Gas\\r                49.3      S           1   \n",
       "\n",
       "                          UtilityID  UtilityName NameplatePowerFactor  \\\n",
       "0  Alabama Municipal Elec Authority        40614                  0.8   \n",
       "1  Alabama Municipal Elec Authority        40614                  0.8   \n",
       "2  Alabama Municipal Elec Authority        40614                  0.8   \n",
       "3  Alabama Municipal Elec Authority        40614                  0.8   \n",
       "4  Alabama Municipal Elec Authority        40614                  0.8   \n",
       "\n",
       "  SummerCapacityMW WinterCapacityMW  \n",
       "0             47.5             48.3  \n",
       "1             47.5             48.3  \n",
       "2             47.5             48.3  \n",
       "3             47.5             48.3  \n",
       "4             47.5             48.3  "
      ]
     },
     "execution_count": 2,
     "metadata": {},
     "output_type": "execute_result"
    }
   ],
   "source": [
    "\n",
    "df = pd.read_csv('Results2.csv')\n",
    "\n",
    "df.dropna(inplace=True)\n",
    "df.head()"
   ]
  },
  {
   "cell_type": "code",
   "execution_count": 22,
   "metadata": {},
   "outputs": [
    {
     "name": "stdout",
     "output_type": "stream",
     "text": [
      "int64\n",
      "(4000,)\n"
     ]
    }
   ],
   "source": [
    "\n",
    "\n",
    "def encode_text_index(df, name):\n",
    "    le = preprocessing.LabelEncoder()\n",
    "    df[name] = le.fit_transform(df[name])\n",
    "    return le.classes_  \n",
    "\n",
    "df = df.head(4000)\n",
    "\n",
    "df1 = df.drop(['State','FacilityName','FacilityID','UnitID','GDate','GOwner','UtilityID','GeneratorID','UtilityName','GYear','FuelType'], 1)\n",
    "\n",
    "encode_text_index(df1, 'UnitTechnologyType')\n",
    "\n",
    "print(df1.UnitTechnologyType.dtypes)\n",
    "\n",
    "df1['NameplateCapacityMW']=df1['NameplateCapacityMW'].astype(str).astype(float)\n",
    "df1['ElectricityGeneration'] = df1['ElectricityGeneration'].astype(float)\n",
    "df1['UnitTechnologyType'] = df1['UnitTechnologyType'].astype(float)\n",
    "\n",
    "#df1=df1.drop('NameplateCapacityMW',1)\n",
    "#df1=df1.drop('ElectricityGeneration',1)\n",
    "df1.dtypes\n",
    "#df1.ElectricityGeneration.dtypes\n",
    "\n",
    "y = df1['ElectricityGeneration']\n",
    "y.dtypes\n",
    "x = df1['NameplateCapacityMW']\n",
    "x.dtypes\n",
    "\n",
    "\n",
    "print(y.shape)"
   ]
  },
  {
   "cell_type": "code",
   "execution_count": 23,
   "metadata": {},
   "outputs": [
    {
     "data": {
      "text/html": [
       "<table class=\"simpletable\">\n",
       "<caption>OLS Regression Results</caption>\n",
       "<tr>\n",
       "  <th>Dep. Variable:</th>    <td>ElectricityGeneration</td> <th>  R-squared:         </th> <td>   0.026</td> \n",
       "</tr>\n",
       "<tr>\n",
       "  <th>Model:</th>                     <td>OLS</td>          <th>  Adj. R-squared:    </th> <td>   0.026</td> \n",
       "</tr>\n",
       "<tr>\n",
       "  <th>Method:</th>               <td>Least Squares</td>     <th>  F-statistic:       </th> <td>   85.41</td> \n",
       "</tr>\n",
       "<tr>\n",
       "  <th>Date:</th>               <td>Mon, 18 Jun 2018</td>    <th>  Prob (F-statistic):</th> <td>4.31e-20</td> \n",
       "</tr>\n",
       "<tr>\n",
       "  <th>Time:</th>                   <td>17:17:01</td>        <th>  Log-Likelihood:    </th> <td> -20816.</td> \n",
       "</tr>\n",
       "<tr>\n",
       "  <th>No. Observations:</th>        <td>  3200</td>         <th>  AIC:               </th> <td>4.163e+04</td>\n",
       "</tr>\n",
       "<tr>\n",
       "  <th>Df Residuals:</th>            <td>  3199</td>         <th>  BIC:               </th> <td>4.164e+04</td>\n",
       "</tr>\n",
       "<tr>\n",
       "  <th>Df Model:</th>                <td>     1</td>         <th>                     </th>     <td> </td>    \n",
       "</tr>\n",
       "<tr>\n",
       "  <th>Covariance Type:</th>        <td>nonrobust</td>       <th>                     </th>     <td> </td>    \n",
       "</tr>\n",
       "</table>\n",
       "<table class=\"simpletable\">\n",
       "<tr>\n",
       "           <td></td>              <th>coef</th>     <th>std err</th>      <th>t</th>      <th>P>|t|</th>  <th>[0.025</th>    <th>0.975]</th>  \n",
       "</tr>\n",
       "<tr>\n",
       "  <th>NameplateCapacityMW</th> <td>    0.1540</td> <td>    0.017</td> <td>    9.242</td> <td> 0.000</td> <td>    0.121</td> <td>    0.187</td>\n",
       "</tr>\n",
       "</table>\n",
       "<table class=\"simpletable\">\n",
       "<tr>\n",
       "  <th>Omnibus:</th>       <td>1379.671</td> <th>  Durbin-Watson:     </th> <td>   1.839</td>\n",
       "</tr>\n",
       "<tr>\n",
       "  <th>Prob(Omnibus):</th>  <td> 0.000</td>  <th>  Jarque-Bera (JB):  </th> <td>5018.717</td>\n",
       "</tr>\n",
       "<tr>\n",
       "  <th>Skew:</th>           <td> 2.218</td>  <th>  Prob(JB):          </th> <td>    0.00</td>\n",
       "</tr>\n",
       "<tr>\n",
       "  <th>Kurtosis:</th>       <td> 7.239</td>  <th>  Cond. No.          </th> <td>    1.00</td>\n",
       "</tr>\n",
       "</table>"
      ],
      "text/plain": [
       "<class 'statsmodels.iolib.summary.Summary'>\n",
       "\"\"\"\n",
       "                              OLS Regression Results                             \n",
       "=================================================================================\n",
       "Dep. Variable:     ElectricityGeneration   R-squared:                       0.026\n",
       "Model:                               OLS   Adj. R-squared:                  0.026\n",
       "Method:                    Least Squares   F-statistic:                     85.41\n",
       "Date:                   Mon, 18 Jun 2018   Prob (F-statistic):           4.31e-20\n",
       "Time:                           17:17:01   Log-Likelihood:                -20816.\n",
       "No. Observations:                   3200   AIC:                         4.163e+04\n",
       "Df Residuals:                       3199   BIC:                         4.164e+04\n",
       "Df Model:                              1                                         \n",
       "Covariance Type:               nonrobust                                         \n",
       "=======================================================================================\n",
       "                          coef    std err          t      P>|t|      [0.025      0.975]\n",
       "---------------------------------------------------------------------------------------\n",
       "NameplateCapacityMW     0.1540      0.017      9.242      0.000       0.121       0.187\n",
       "==============================================================================\n",
       "Omnibus:                     1379.671   Durbin-Watson:                   1.839\n",
       "Prob(Omnibus):                  0.000   Jarque-Bera (JB):             5018.717\n",
       "Skew:                           2.218   Prob(JB):                         0.00\n",
       "Kurtosis:                       7.239   Cond. No.                         1.00\n",
       "==============================================================================\n",
       "\n",
       "Warnings:\n",
       "[1] Standard Errors assume that the covariance matrix of the errors is correctly specified.\n",
       "\"\"\""
      ]
     },
     "execution_count": 23,
     "metadata": {},
     "output_type": "execute_result"
    }
   ],
   "source": [
    "import statsmodels.api as sm\n",
    "#x = sm.add_constant(x)\n",
    "\n",
    "#df1 = df.drop(['State','FacilityName','FacilityID','UnitID','GDate','GOwner','UtilityID','GeneratorID','UtilityName','GYear','FuelType'], 1)\n",
    "x_train, x_test, y_train, y_test = train_test_split(\n",
    "    x, y, test_size=0.20, random_state=42)\n",
    "model = sm.OLS(y_train, x_train).fit()\n",
    "Y_predictions = model.predict(x_test) # make the predictions by the model\n",
    "\n",
    "# Print out the statistics\n",
    "model.summary()\n"
   ]
  },
  {
   "cell_type": "code",
   "execution_count": 24,
   "metadata": {
    "scrolled": false
   },
   "outputs": [
    {
     "name": "stdout",
     "output_type": "stream",
     "text": [
      "25530.242300901795\n",
      "-0.1732232989409659\n"
     ]
    }
   ],
   "source": [
    "print(mean_squared_error(y_test, Y_predictions))\n",
    "print(r2_score(y_test, Y_predictions, multioutput='variance_weighted'))\n",
    "#print(mean_squared_log_error(y_test, Y_predictions))"
   ]
  },
  {
   "cell_type": "code",
   "execution_count": 25,
   "metadata": {},
   "outputs": [
    {
     "name": "stdout",
     "output_type": "stream",
     "text": [
      "(3200,)\n",
      "(3200,)\n"
     ]
    },
    {
     "data": {
      "image/png": "[encoded data removed]",
      "text/plain": [
       "<matplotlib.figure.Figure at 0x27881759c88>"
      ]
     },
     "metadata": {},
     "output_type": "display_data"
    }
   ],
   "source": [
    "print(x_train.shape)\n",
    "print(y_train.shape)\n",
    "plt.scatter(x_train, y_train, c='#ef5423', label='Scatter Plot')\n",
    "\n",
    "plt.plot(x_test, Y_predictions,  c='#ef5423', label='Scatter Plot')\n",
    "plt.title(\"Electricity data for two years\")\n",
    "plt.xlabel(\"NameplateCapacityMW\")\n",
    "plt.ylabel(\"ElectricityGeneration\")\n",
    "plt.xticks(())\n",
    "plt.yticks(())\n",
    "plt.legend()\n",
    "plt.show()\n",
    "\n"
   ]
  },
  {
   "cell_type": "code",
   "execution_count": 26,
   "metadata": {},
   "outputs": [],
   "source": [
    "#multivariate \n",
    "df.dtypes\n",
    "df2 = df.drop(['State','FacilityName','FacilityID','UnitID','GDate','GOwner','UtilityID','GeneratorID','UtilityName','GYear'], 1)\n",
    "df2.dtypes\n",
    "encode_text_index(df2, 'UnitTechnologyType')\n",
    "encode_text_index(df2,'FuelType')\n",
    "\n",
    "df2['NameplateCapacityMW']=df2['NameplateCapacityMW'].astype(str).astype(float)\n",
    "df2['ElectricityGeneration'] = df2['ElectricityGeneration'].astype(float)\n",
    "df2['UnitTechnologyType'] = df2['UnitTechnologyType'].astype(float)\n",
    "df2['SummerCapacityMW'] = df2['SummerCapacityMW'].astype(float)\n",
    "df2['NameplatePowerFactor'] = df2['NameplatePowerFactor'].astype(float)\n",
    "df2['WinterCapacityMW'] = df2['WinterCapacityMW'].astype(float)\n",
    "df2['FuelType'] = df2['FuelType'].astype(float)\n",
    "\n",
    "df2.dtypes\n",
    "X = df2[['NameplateCapacityMW', 'UnitTechnologyType', 'SummerCapacityMW','NameplatePowerFactor','WinterCapacityMW','FuelType']]\n",
    "y = df2['ElectricityGeneration']\n"
   ]
  },
  {
   "cell_type": "code",
   "execution_count": 28,
   "metadata": {},
   "outputs": [],
   "source": [
    "from sklearn.model_selection import train_test_split  \n",
    "X_train, X_test, y_train, y_test = train_test_split(X, y, test_size=0.2, random_state=0)  \n",
    "#x_train"
   ]
  },
  {
   "cell_type": "code",
   "execution_count": 29,
   "metadata": {},
   "outputs": [
    {
     "data": {
      "text/plain": [
       "LinearRegression(copy_X=True, fit_intercept=True, n_jobs=1, normalize=False)"
      ]
     },
     "execution_count": 29,
     "metadata": {},
     "output_type": "execute_result"
    }
   ],
   "source": [
    "from sklearn.linear_model import LinearRegression  \n",
    "regressor = LinearRegression()  \n",
    "regressor.fit(X_train, y_train)  "
   ]
  },
  {
   "cell_type": "code",
   "execution_count": 31,
   "metadata": {},
   "outputs": [
    {
     "data": {
      "text/html": [
       "<div>\n",
       "<style scoped>\n",
       "    .dataframe tbody tr th:only-of-type {\n",
       "        vertical-align: middle;\n",
       "    }\n",
       "\n",
       "    .dataframe tbody tr th {\n",
       "        vertical-align: top;\n",
       "    }\n",
       "\n",
       "    .dataframe thead th {\n",
       "        text-align: right;\n",
       "    }\n",
       "</style>\n",
       "<table border=\"1\" class=\"dataframe\">\n",
       "  <thead>\n",
       "    <tr style=\"text-align: right;\">\n",
       "      <th></th>\n",
       "      <th>Coefficient</th>\n",
       "    </tr>\n",
       "  </thead>\n",
       "  <tbody>\n",
       "    <tr>\n",
       "      <th>NameplateCapacityMW</th>\n",
       "      <td>9.242088e-02</td>\n",
       "    </tr>\n",
       "    <tr>\n",
       "      <th>UnitTechnologyType</th>\n",
       "      <td>-3.101214e-11</td>\n",
       "    </tr>\n",
       "    <tr>\n",
       "      <th>SummerCapacityMW</th>\n",
       "      <td>-4.968198e-01</td>\n",
       "    </tr>\n",
       "    <tr>\n",
       "      <th>NameplatePowerFactor</th>\n",
       "      <td>-1.262334e+03</td>\n",
       "    </tr>\n",
       "    <tr>\n",
       "      <th>WinterCapacityMW</th>\n",
       "      <td>4.188751e-01</td>\n",
       "    </tr>\n",
       "    <tr>\n",
       "      <th>FuelType</th>\n",
       "      <td>0.000000e+00</td>\n",
       "    </tr>\n",
       "  </tbody>\n",
       "</table>\n",
       "</div>"
      ],
      "text/plain": [
       "                       Coefficient\n",
       "NameplateCapacityMW   9.242088e-02\n",
       "UnitTechnologyType   -3.101214e-11\n",
       "SummerCapacityMW     -4.968198e-01\n",
       "NameplatePowerFactor -1.262334e+03\n",
       "WinterCapacityMW      4.188751e-01\n",
       "FuelType              0.000000e+00"
      ]
     },
     "execution_count": 31,
     "metadata": {},
     "output_type": "execute_result"
    }
   ],
   "source": [
    "\n",
    "coeff_df = pd.DataFrame(regressor.coef_, X.columns, columns=['Coefficient'])  \n",
    "coeff_df \n"
   ]
  },
  {
   "cell_type": "code",
   "execution_count": 32,
   "metadata": {},
   "outputs": [],
   "source": [
    "y_pred = regressor.predict(X_test)  "
   ]
  },
  {
   "cell_type": "code",
   "execution_count": 34,
   "metadata": {},
   "outputs": [
    {
     "data": {
      "text/html": [
       "<div>\n",
       "<style scoped>\n",
       "    .dataframe tbody tr th:only-of-type {\n",
       "        vertical-align: middle;\n",
       "    }\n",
       "\n",
       "    .dataframe tbody tr th {\n",
       "        vertical-align: top;\n",
       "    }\n",
       "\n",
       "    .dataframe thead th {\n",
       "        text-align: right;\n",
       "    }\n",
       "</style>\n",
       "<table border=\"1\" class=\"dataframe\">\n",
       "  <thead>\n",
       "    <tr style=\"text-align: right;\">\n",
       "      <th></th>\n",
       "      <th>Actual</th>\n",
       "      <th>Predicted</th>\n",
       "    </tr>\n",
       "  </thead>\n",
       "  <tbody>\n",
       "    <tr>\n",
       "      <th>2230</th>\n",
       "      <td>0.0</td>\n",
       "      <td>78.836108</td>\n",
       "    </tr>\n",
       "    <tr>\n",
       "      <th>668</th>\n",
       "      <td>0.0</td>\n",
       "      <td>78.836108</td>\n",
       "    </tr>\n",
       "    <tr>\n",
       "      <th>3616</th>\n",
       "      <td>0.0</td>\n",
       "      <td>29.869754</td>\n",
       "    </tr>\n",
       "    <tr>\n",
       "      <th>2363</th>\n",
       "      <td>0.0</td>\n",
       "      <td>78.836108</td>\n",
       "    </tr>\n",
       "    <tr>\n",
       "      <th>142</th>\n",
       "      <td>0.0</td>\n",
       "      <td>78.836108</td>\n",
       "    </tr>\n",
       "  </tbody>\n",
       "</table>\n",
       "</div>"
      ],
      "text/plain": [
       "      Actual  Predicted\n",
       "2230     0.0  78.836108\n",
       "668      0.0  78.836108\n",
       "3616     0.0  29.869754\n",
       "2363     0.0  78.836108\n",
       "142      0.0  78.836108"
      ]
     },
     "execution_count": 34,
     "metadata": {},
     "output_type": "execute_result"
    }
   ],
   "source": [
    "compare = pd.DataFrame({'Actual': y_test, 'Predicted': y_pred})  \n",
    "compare.head(5)\n"
   ]
  },
  {
   "cell_type": "code",
   "execution_count": 35,
   "metadata": {},
   "outputs": [
    {
     "name": "stdout",
     "output_type": "stream",
     "text": [
      "Mean Absolute Error: 102.57346572077982\n",
      "Mean Squared Error: 22514.5348333388\n",
      "Root Mean Squared Error: 150.04844162249336\n"
     ]
    }
   ],
   "source": [
    "from sklearn import metrics  \n",
    "print('Mean Absolute Error:', metrics.mean_absolute_error(y_test, y_pred))  \n",
    "print('Mean Squared Error:', metrics.mean_squared_error(y_test, y_pred))  \n",
    "print('Root Mean Squared Error:', np.sqrt(metrics.mean_squared_error(y_test, y_pred)))  \n"
   ]
  },
  {
   "cell_type": "code",
   "execution_count": 39,
   "metadata": {},
   "outputs": [
    {
     "name": "stderr",
     "output_type": "stream",
     "text": [
      "c:\\users\\shwet\\anaconda3\\lib\\site-packages\\statsmodels\\regression\\linear_model.py:1471: RuntimeWarning: divide by zero encountered in double_scalars\n",
      "  return np.sqrt(eigvals[0]/eigvals[-1])\n",
      "c:\\users\\shwet\\anaconda3\\lib\\site-packages\\statsmodels\\base\\model.py:1036: RuntimeWarning: invalid value encountered in true_divide\n",
      "  return self.params / self.bse\n",
      "c:\\users\\shwet\\anaconda3\\lib\\site-packages\\scipy\\stats\\_distn_infrastructure.py:879: RuntimeWarning: invalid value encountered in greater\n",
      "  return (self.a < x) & (x < self.b)\n",
      "c:\\users\\shwet\\anaconda3\\lib\\site-packages\\scipy\\stats\\_distn_infrastructure.py:879: RuntimeWarning: invalid value encountered in less\n",
      "  return (self.a < x) & (x < self.b)\n",
      "c:\\users\\shwet\\anaconda3\\lib\\site-packages\\scipy\\stats\\_distn_infrastructure.py:1821: RuntimeWarning: invalid value encountered in less_equal\n",
      "  cond2 = cond0 & (x <= self.a)\n"
     ]
    },
    {
     "data": {
      "text/html": [
       "<table class=\"simpletable\">\n",
       "<caption>OLS Regression Results</caption>\n",
       "<tr>\n",
       "  <th>Dep. Variable:</th>    <td>ElectricityGeneration</td> <th>  R-squared:         </th> <td>   0.027</td> \n",
       "</tr>\n",
       "<tr>\n",
       "  <th>Model:</th>                     <td>OLS</td>          <th>  Adj. R-squared:    </th> <td>   0.026</td> \n",
       "</tr>\n",
       "<tr>\n",
       "  <th>Method:</th>               <td>Least Squares</td>     <th>  F-statistic:       </th> <td>   27.26</td> \n",
       "</tr>\n",
       "<tr>\n",
       "  <th>Date:</th>               <td>Mon, 18 Jun 2018</td>    <th>  Prob (F-statistic):</th> <td>2.37e-22</td> \n",
       "</tr>\n",
       "<tr>\n",
       "  <th>Time:</th>                   <td>17:21:00</td>        <th>  Log-Likelihood:    </th> <td> -25670.</td> \n",
       "</tr>\n",
       "<tr>\n",
       "  <th>No. Observations:</th>        <td>  4000</td>         <th>  AIC:               </th> <td>5.135e+04</td>\n",
       "</tr>\n",
       "<tr>\n",
       "  <th>Df Residuals:</th>            <td>  3995</td>         <th>  BIC:               </th> <td>5.138e+04</td>\n",
       "</tr>\n",
       "<tr>\n",
       "  <th>Df Model:</th>                <td>     4</td>         <th>                     </th>     <td> </td>    \n",
       "</tr>\n",
       "<tr>\n",
       "  <th>Covariance Type:</th>        <td>nonrobust</td>       <th>                     </th>     <td> </td>    \n",
       "</tr>\n",
       "</table>\n",
       "<table class=\"simpletable\">\n",
       "<tr>\n",
       "            <td></td>              <th>coef</th>     <th>std err</th>      <th>t</th>      <th>P>|t|</th>  <th>[0.025</th>    <th>0.975]</th>  \n",
       "</tr>\n",
       "<tr>\n",
       "  <th>Intercept</th>            <td>  960.7074</td> <td>  330.748</td> <td>    2.905</td> <td> 0.004</td> <td>  312.257</td> <td> 1609.158</td>\n",
       "</tr>\n",
       "<tr>\n",
       "  <th>NameplateCapacityMW</th>  <td>   -0.0030</td> <td>    0.252</td> <td>   -0.012</td> <td> 0.991</td> <td>   -0.498</td> <td>    0.492</td>\n",
       "</tr>\n",
       "<tr>\n",
       "  <th>UnitTechnologyType</th>   <td>-8.641e-11</td> <td> 3.14e-11</td> <td>   -2.749</td> <td> 0.006</td> <td>-1.48e-10</td> <td>-2.48e-11</td>\n",
       "</tr>\n",
       "<tr>\n",
       "  <th>SummerCapacityMW</th>     <td>    0.0036</td> <td>    1.145</td> <td>    0.003</td> <td> 0.998</td> <td>   -2.241</td> <td>    2.248</td>\n",
       "</tr>\n",
       "<tr>\n",
       "  <th>NameplatePowerFactor</th> <td>-1101.3075</td> <td>  415.692</td> <td>   -2.649</td> <td> 0.008</td> <td>-1916.295</td> <td> -286.320</td>\n",
       "</tr>\n",
       "<tr>\n",
       "  <th>WinterCapacityMW</th>     <td>   -0.0004</td> <td>    0.951</td> <td>   -0.000</td> <td> 1.000</td> <td>   -1.865</td> <td>    1.864</td>\n",
       "</tr>\n",
       "<tr>\n",
       "  <th>FuelType</th>             <td>         0</td> <td>        0</td> <td>      nan</td> <td>   nan</td> <td>        0</td> <td>        0</td>\n",
       "</tr>\n",
       "</table>\n",
       "<table class=\"simpletable\">\n",
       "<tr>\n",
       "  <th>Omnibus:</th>       <td>1857.043</td> <th>  Durbin-Watson:     </th> <td>   0.437</td>\n",
       "</tr>\n",
       "<tr>\n",
       "  <th>Prob(Omnibus):</th>  <td> 0.000</td>  <th>  Jarque-Bera (JB):  </th> <td>8124.336</td>\n",
       "</tr>\n",
       "<tr>\n",
       "  <th>Skew:</th>           <td> 2.320</td>  <th>  Prob(JB):          </th> <td>    0.00</td>\n",
       "</tr>\n",
       "<tr>\n",
       "  <th>Kurtosis:</th>       <td> 8.217</td>  <th>  Cond. No.          </th> <td>     inf</td>\n",
       "</tr>\n",
       "</table>"
      ],
      "text/plain": [
       "<class 'statsmodels.iolib.summary.Summary'>\n",
       "\"\"\"\n",
       "                              OLS Regression Results                             \n",
       "=================================================================================\n",
       "Dep. Variable:     ElectricityGeneration   R-squared:                       0.027\n",
       "Model:                               OLS   Adj. R-squared:                  0.026\n",
       "Method:                    Least Squares   F-statistic:                     27.26\n",
       "Date:                   Mon, 18 Jun 2018   Prob (F-statistic):           2.37e-22\n",
       "Time:                           17:21:00   Log-Likelihood:                -25670.\n",
       "No. Observations:                   4000   AIC:                         5.135e+04\n",
       "Df Residuals:                       3995   BIC:                         5.138e+04\n",
       "Df Model:                              4                                         \n",
       "Covariance Type:               nonrobust                                         \n",
       "========================================================================================\n",
       "                           coef    std err          t      P>|t|      [0.025      0.975]\n",
       "----------------------------------------------------------------------------------------\n",
       "Intercept              960.7074    330.748      2.905      0.004     312.257    1609.158\n",
       "NameplateCapacityMW     -0.0030      0.252     -0.012      0.991      -0.498       0.492\n",
       "UnitTechnologyType   -8.641e-11   3.14e-11     -2.749      0.006   -1.48e-10   -2.48e-11\n",
       "SummerCapacityMW         0.0036      1.145      0.003      0.998      -2.241       2.248\n",
       "NameplatePowerFactor -1101.3075    415.692     -2.649      0.008   -1916.295    -286.320\n",
       "WinterCapacityMW        -0.0004      0.951     -0.000      1.000      -1.865       1.864\n",
       "FuelType                      0          0        nan        nan           0           0\n",
       "==============================================================================\n",
       "Omnibus:                     1857.043   Durbin-Watson:                   0.437\n",
       "Prob(Omnibus):                  0.000   Jarque-Bera (JB):             8124.336\n",
       "Skew:                           2.320   Prob(JB):                         0.00\n",
       "Kurtosis:                       8.217   Cond. No.                          inf\n",
       "==============================================================================\n",
       "\n",
       "Warnings:\n",
       "[1] Standard Errors assume that the covariance matrix of the errors is correctly specified.\n",
       "[2] The smallest eigenvalue is      0. This might indicate that there are\n",
       "strong multicollinearity problems or that the design matrix is singular.\n",
       "\"\"\""
      ]
     },
     "execution_count": 39,
     "metadata": {},
     "output_type": "execute_result"
    }
   ],
   "source": [
    "#multivariate leanear regression Using statistical model using NameplateCapacityMW and UnitTechnology \n",
    "#formula=' ElectricityGeneration ~ NameplateCapacityMW + UnitTechnologyType + SummerCapacityMW + NameplatePowerFactor + \n",
    "#WinterCapacityMW + FuelType', data=df2)\n",
    "\n",
    "from mpl_toolkits.mplot3d import Axes3D\n",
    "import statsmodels.formula.api as smf\n",
    "model = smf.ols(formula=' ElectricityGeneration ~ NameplateCapacityMW + UnitTechnologyType +SummerCapacityMW + NameplatePowerFactor + WinterCapacityMW + FuelType ', data=df2)\n",
    "results_formula = model.fit()\n",
    "results_formula.params\n",
    "results_formula.summary()"
   ]
  },
  {
   "cell_type": "code",
   "execution_count": 37,
   "metadata": {},
   "outputs": [
    {
     "data": {
      "text/plain": [
       "<matplotlib.legend.Legend at 0x2788190a390>"
      ]
     },
     "execution_count": 37,
     "metadata": {},
     "output_type": "execute_result"
    },
    {
     "data": {
      "image/png": "[encoded data removed]",
      "text/plain": [
       "<matplotlib.figure.Figure at 0x278ceda4ba8>"
      ]
     },
     "metadata": {},
     "output_type": "display_data"
    }
   ],
   "source": [
    "\n",
    "\n",
    "%matplotlib inline\n",
    "# plot lstat (% lower status of the population) against median value\n",
    "plt.figure(figsize=(6 * 1.618, 6))\n",
    "plt.scatter(df2.NameplateCapacityMW, df2.ElectricityGeneration, s=10, alpha=0.3)\n",
    "plt.xlabel('NameplateCapacityMW')\n",
    "plt.ylabel('Electricity Genreation')\n",
    "\n",
    "# points linearlyd space on lstats\n",
    "x = pd.DataFrame({'NameplateCapacityMW': np.linspace(df2.NameplateCapacityMW.min(), df2.NameplateCapacityMW.max(), 400)})\n",
    "\n",
    "# 1-st order polynomial\n",
    "poly_1 = smf.ols(formula='ElectricityGeneration ~ 1 + NameplateCapacityMW ', data=df2).fit()\n",
    "plt.plot(x.NameplateCapacityMW, poly_1.predict(x), 'b-', label='Poly n=1 $R^2$=%.2f' % poly_1.rsquared, \n",
    "         alpha=0.9)\n",
    "\n",
    "# 2-nd order polynomial\n",
    "poly_2 = smf.ols(formula='ElectricityGeneration ~ 1 + NameplateCapacityMW  + I(NameplateCapacityMW  ** 2.0)', data=df2).fit()\n",
    "plt.plot(x.NameplateCapacityMW, poly_2.predict(x), 'g-', label='Poly n=2 $R^2$=%.2f' % poly_2.rsquared, \n",
    "         alpha=0.9)\n",
    "\n",
    "# 3-rd order polynomial\n",
    "poly_3 = smf.ols(formula='ElectricityGeneration ~ 1 + NameplateCapacityMW  + I(NameplateCapacityMW  ** 2.0) + I(NameplateCapacityMW ** 3.0)', data=df2).fit()\n",
    "plt.plot(x.NameplateCapacityMW, poly_3.predict(x), 'r-', alpha=0.9,\n",
    "         label='Poly n=3 $R^2$=%.2f' % poly_3.rsquared)\n",
    "\n",
    "plt.legend()\n",
    "#plt.show()"
   ]
  }
 ],
 "metadata": {
  "kernelspec": {
   "display_name": "Python 3",
   "language": "python",
   "name": "python3"
  },
  "language_info": {
   "codemirror_mode": {
    "name": "ipython",
    "version": 3
   },
   "file_extension": ".py",
   "mimetype": "text/x-python",
   "name": "python",
   "nbconvert_exporter": "python",
   "pygments_lexer": "ipython3",
   "version": "3.6.4"
  }
 },
 "nbformat": 4,
 "nbformat_minor": 2
}
